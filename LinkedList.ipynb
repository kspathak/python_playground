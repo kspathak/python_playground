{
 "cells": [
  {
   "cell_type": "code",
   "execution_count": 1,
   "id": "0ff10037",
   "metadata": {},
   "outputs": [],
   "source": [
    "import pandas as pd\n"
   ]
  },
  {
   "cell_type": "code",
   "execution_count": 2,
   "id": "e5c9beb9",
   "metadata": {},
   "outputs": [],
   "source": [
    "# linked list implementation"
   ]
  },
  {
   "cell_type": "code",
   "execution_count": 25,
   "id": "59d83b48",
   "metadata": {},
   "outputs": [],
   "source": [
    "class Node:\n",
    "    \n",
    "    def __init__(self, dataval = None):\n",
    "        \n",
    "        self.dataval = dataval\n",
    "        self.nextval = None\n",
    "        \n",
    "        \n",
    "class LinkedList:\n",
    "    \n",
    "    def __init__(self):\n",
    "        \n",
    "        self.head = None\n",
    "        \n",
    "        \n",
    "    def printList(self):\n",
    "        \n",
    "        temp = self.head\n",
    "        \n",
    "        while temp:\n",
    "            \n",
    "            print(temp.dataval)\n",
    "            \n",
    "            temp = temp.nextval\n",
    "            \n",
    "    def AtBeginning(self, newdata):\n",
    "        \n",
    "        NewNode = Node(newdata)\n",
    "\n",
    "# Update the node next val to the existing node\n",
    "\n",
    "        NewNode.nextval = self.head\n",
    "        self.head = NewNode\n",
    "        return\n",
    "    \n",
    "    def AtEnd(self, newdata):\n",
    "        \n",
    "        \n",
    "    # When there is no node\n",
    "    \n",
    "        NewNode = Node(newdata)\n",
    "        \n",
    "        if self.head is None:\n",
    "            \n",
    "            self.head = NewNode\n",
    "            return\n",
    "        \n",
    "        lastelem =  self.head\n",
    "\n",
    "        while lastelem.nextval:\n",
    "            \n",
    "            lastelem = lastelem.nextval\n",
    "        \n",
    "        lastelem.nextval = NewNode\n",
    "        \n",
    "        \n",
    "        \n",
    "    \n",
    "        \n"
   ]
  },
  {
   "cell_type": "code",
   "execution_count": 27,
   "id": "692b0645",
   "metadata": {},
   "outputs": [
    {
     "name": "stdout",
     "output_type": "stream",
     "text": [
      "4\n",
      "1\n",
      "2\n",
      "3\n",
      "6\n"
     ]
    }
   ],
   "source": [
    "if __name__ == '__main__':\n",
    "    \n",
    "    llist = LinkedList()\n",
    "    \n",
    "    llist.head = Node(1)\n",
    "    second = Node(2)\n",
    "    third = Node(3)\n",
    "    \n",
    "    \n",
    "    llist.head.nextval = second\n",
    "    second.nextval = third\n",
    "    \n",
    "    \n",
    "    \n",
    "    llist.AtBeginning(4)\n",
    "    llist.AtEnd(6)\n",
    "    llist.printList()\n",
    "   \n",
    "\n",
    "\n",
    "        \n",
    "\n",
    "        \n",
    "        "
   ]
  },
  {
   "cell_type": "code",
   "execution_count": 16,
   "id": "161e2e4d",
   "metadata": {},
   "outputs": [
    {
     "name": "stdout",
     "output_type": "stream",
     "text": [
      "<__main__.LinkedList object at 0x118114fd0>\n"
     ]
    }
   ],
   "source": []
  },
  {
   "cell_type": "code",
   "execution_count": null,
   "id": "a3ff2b21",
   "metadata": {},
   "outputs": [],
   "source": []
  }
 ],
 "metadata": {
  "kernelspec": {
   "display_name": "Python 3",
   "language": "python",
   "name": "python3"
  },
  "language_info": {
   "codemirror_mode": {
    "name": "ipython",
    "version": 3
   },
   "file_extension": ".py",
   "mimetype": "text/x-python",
   "name": "python",
   "nbconvert_exporter": "python",
   "pygments_lexer": "ipython3",
   "version": "3.8.8"
  }
 },
 "nbformat": 4,
 "nbformat_minor": 5
}
