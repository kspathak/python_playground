{
 "cells": [
  {
   "cell_type": "code",
   "execution_count": 12,
   "id": "0ff10037",
   "metadata": {},
   "outputs": [],
   "source": [
    "import pandas as pd"
   ]
  },
  {
   "cell_type": "code",
   "execution_count": 20,
   "id": "6058a91c",
   "metadata": {},
   "outputs": [],
   "source": [
    "# !jt -t monokai -f fira -fs 13 -nf ptsans -nfs 11 -ofs 12 -N -kl -cursw 2 -cursc b -cellw 95% -T\n",
    "#!jt -t monokai -f fira -fs 13 -nf ptsans -nfs 11 -ofs 12 -N -kl -cursw 2 -cursc b -cellw 95% -T"
   ]
  },
  {
   "cell_type": "code",
   "execution_count": 21,
   "id": "870b0996",
   "metadata": {
    "scrolled": true
   },
   "outputs": [],
   "source": [
    "#!pip install jupyterthemes\n",
    "\n",
    "#! jt -t onedork -f roboto -fs 12 -ofs 12 -cellw 1200"
   ]
  },
  {
   "cell_type": "code",
   "execution_count": 2,
   "id": "e5c9beb9",
   "metadata": {},
   "outputs": [],
   "source": [
    "# linked list implementation"
   ]
  },
  {
   "cell_type": "code",
   "execution_count": 45,
   "id": "59d83b48",
   "metadata": {},
   "outputs": [],
   "source": [
    "class Node:\n",
    "    \n",
    "    def __init__(self, dataval = None):\n",
    "        \n",
    "        self.dataval = dataval\n",
    "        self.nextval = None\n",
    "        \n",
    "class LinkedList:\n",
    "    \n",
    "    def __init__(self):\n",
    "    # initializing the Linkedlist    \n",
    "        self.head = None\n",
    "         \n",
    "    def printList(self):\n",
    "    # print the elem\n",
    "        \n",
    "        temp = self.head\n",
    "        \n",
    "        while temp:\n",
    "            \n",
    "            print(temp.dataval)\n",
    "            temp = temp.nextval\n",
    "            \n",
    "    def AtBeginning(self, newdata):\n",
    "        \n",
    "        NewNode = Node(newdata)\n",
    "\n",
    "# Update the node next val to the existing node\n",
    "\n",
    "        NewNode.nextval = self.head\n",
    "        self.head = NewNode\n",
    "        return\n",
    "    \n",
    "    def AtEnd(self, newdata):\n",
    "        \n",
    "        \n",
    "    # When there is no node\n",
    "    \n",
    "        NewNode = Node(newdata)\n",
    "        \n",
    "        if self.head is None:\n",
    "            \n",
    "            self.head = NewNode\n",
    "            return\n",
    "        \n",
    "        lastelem =  self.head\n",
    "\n",
    "        while lastelem.nextval:\n",
    "            \n",
    "            lastelem = lastelem.nextval\n",
    "        \n",
    "        lastelem.nextval = NewNode\n",
    "        \n",
    "    def AtMiddle(self, middle_node, newdata):\n",
    "        \n",
    "        if middle_node is None:\n",
    "            print (\"The middle node is absent\")   \n",
    "        new_node = Node(newdata)\n",
    "        new_node.nextval = middle_node.nextval\n",
    "        middle_node.nextval = new_node\n",
    "        \n",
    "        \n",
    "    def RemoveNode(self, Removekey):\n",
    "        \n",
    "        headval = self.head\n",
    "        \n",
    "        # if the element to be removed is the first element/ head\n",
    "        \n",
    "        if headval.dataval == Removekey:\n",
    "            self.head = headval.nextval\n",
    "            headval = None\n",
    "            return\n",
    "        \n",
    "        while headval is not None:\n",
    "            \n",
    "            if headval.dataval == Removekey:\n",
    "                break   \n",
    "            prev = headval\n",
    "            headval = headval.nextval\n",
    "            \n",
    "        if headval is None:\n",
    "            return\n",
    "        \n",
    "        prev.nextval = headval.nextval\n",
    "        headval = None"
   ]
  },
  {
   "cell_type": "code",
   "execution_count": 47,
   "id": "692b0645",
   "metadata": {
    "scrolled": true
   },
   "outputs": [
    {
     "name": "stdout",
     "output_type": "stream",
     "text": [
      "4\n",
      "2\n",
      "12\n",
      "3\n",
      "8\n",
      "11\n"
     ]
    }
   ],
   "source": [
    "if __name__ == '__main__':\n",
    "    \n",
    "    llist = LinkedList()\n",
    "    \n",
    "    llist.head = Node(1)\n",
    "    second = Node(2)\n",
    "    third = Node(3)\n",
    "    \n",
    "    llist.head.nextval = second\n",
    "    second.nextval = third\n",
    "    \n",
    "    llist.AtBeginning(4)\n",
    "    llist.AtEnd(8)\n",
    "    llist.AtEnd(11)\n",
    "    llist.AtMiddle(second, 12)\n",
    "    llist.RemoveNode(1)\n",
    "    llist.printList()\n",
    "    "
   ]
  },
  {
   "cell_type": "code",
   "execution_count": null,
   "id": "161e2e4d",
   "metadata": {},
   "outputs": [],
   "source": []
  },
  {
   "cell_type": "code",
   "execution_count": null,
   "id": "a3ff2b21",
   "metadata": {},
   "outputs": [],
   "source": []
  },
  {
   "cell_type": "code",
   "execution_count": null,
   "id": "cb6c1c44",
   "metadata": {},
   "outputs": [],
   "source": []
  },
  {
   "cell_type": "code",
   "execution_count": null,
   "id": "a2cfcbc5",
   "metadata": {},
   "outputs": [],
   "source": []
  },
  {
   "cell_type": "code",
   "execution_count": null,
   "id": "05ef2722",
   "metadata": {},
   "outputs": [],
   "source": []
  }
 ],
 "metadata": {
  "kernelspec": {
   "display_name": "Python 3",
   "language": "python",
   "name": "python3"
  },
  "language_info": {
   "codemirror_mode": {
    "name": "ipython",
    "version": 3
   },
   "file_extension": ".py",
   "mimetype": "text/x-python",
   "name": "python",
   "nbconvert_exporter": "python",
   "pygments_lexer": "ipython3",
   "version": "3.8.8"
  }
 },
 "nbformat": 4,
 "nbformat_minor": 5
}
